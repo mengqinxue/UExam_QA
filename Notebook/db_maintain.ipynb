{
 "cells": [
  {
   "cell_type": "code",
   "execution_count": 64,
   "id": "b04b2289-1392-4911-b708-3b0bb2c01d78",
   "metadata": {},
   "outputs": [],
   "source": [
    "import json\n",
    "import pandas as pd\n",
    "import mysql.connector\n",
    "from mysql.connector import Error"
   ]
  },
  {
   "cell_type": "code",
   "execution_count": 65,
   "id": "cf95e449-7f3f-4812-8567-43f7793a7a8f",
   "metadata": {},
   "outputs": [],
   "source": [
    "def connect_to_database(host_name, user_name, user_password, db_name):\n",
    "    connection = None\n",
    "    try:\n",
    "        connection = mysql.connector.connect(\n",
    "            host=host_name,\n",
    "            user=user_name,\n",
    "            passwd=user_password,\n",
    "            database=db_name\n",
    "        )\n",
    "        print(\"MySQL Database connection successful\")\n",
    "    except Error as e:\n",
    "        print(f\"The error '{e}' occurred\")\n",
    "\n",
    "    return connection"
   ]
  },
  {
   "cell_type": "code",
   "execution_count": 66,
   "id": "0c26c6e5-2d9e-4616-abd6-d1adafda0069",
   "metadata": {},
   "outputs": [
    {
     "name": "stdout",
     "output_type": "stream",
     "text": [
      "MySQL Database connection successful\n"
     ]
    }
   ],
   "source": [
    "# 示例调用\n",
    "connection = connect_to_database(\"39.104.48.145\", \"meng\", \"Meng2024\", \"xzs\")"
   ]
  },
  {
   "cell_type": "code",
   "execution_count": 67,
   "id": "bf2c3d11-96c7-44e2-a08e-541ae97277c0",
   "metadata": {},
   "outputs": [],
   "source": [
    "# 创建游标对象\n",
    "cursor = connection.cursor()"
   ]
  },
  {
   "cell_type": "code",
   "execution_count": 68,
   "id": "eedc7f50-8b3a-41d6-ad16-7734090d8bd1",
   "metadata": {},
   "outputs": [],
   "source": [
    "# 执行SQL查询\n",
    "paper_id = 1\n",
    "cursor.execute(f\"select * from t_exam_paper a, t_text_content b where a.frame_text_content_id = b.id and a.id = {paper_id}\")"
   ]
  },
  {
   "cell_type": "code",
   "execution_count": 69,
   "id": "0c5c9142-6ffb-4423-b336-58ade909ac71",
   "metadata": {},
   "outputs": [
    {
     "name": "stdout",
     "output_type": "stream",
     "text": [
      "Connection established to:  [(1, 'Basic Skills 1 - Numbers and Comparing', 12, 1, 6, 760, 72, 40, None, None, 73, 2, datetime.datetime(2025, 2, 23, 17, 16, 3), 0, None, 73, '[{\"name\":\"Even and Odd\",\"questionItems\":[{\"id\":1,\"itemOrder\":1},{\"id\":2,\"itemOrder\":2},{\"id\":4,\"itemOrder\":3},{\"id\":6,\"itemOrder\":4},{\"id\":7,\"itemOrder\":5},{\"id\":5,\"itemOrder\":6},{\"id\":3,\"itemOrder\":7},{\"id\":8,\"itemOrder\":8},{\"id\":9,\"itemOrder\":9},{\"id\":11,\"itemOrder\":10},{\"id\":10,\"itemOrder\":11},{\"id\":13,\"itemOrder\":12},{\"id\":12,\"itemOrder\":13},{\"id\":14,\"itemOrder\":14},{\"id\":15,\"itemOrder\":15},{\"id\":16,\"itemOrder\":16}]},{\"name\":\"Counting\",\"questionItems\":[{\"id\":23,\"itemOrder\":17},{\"id\":25,\"itemOrder\":18},{\"id\":27,\"itemOrder\":19},{\"id\":26,\"itemOrder\":20},{\"id\":28,\"itemOrder\":21},{\"id\":24,\"itemOrder\":22},{\"id\":22,\"itemOrder\":23},{\"id\":17,\"itemOrder\":24},{\"id\":18,\"itemOrder\":25},{\"id\":21,\"itemOrder\":26},{\"id\":19,\"itemOrder\":27},{\"id\":20,\"itemOrder\":28}]},{\"name\":\"Ordinal and Cardinal\",\"questionItems\":[{\"id\":32,\"itemOrder\":29},{\"id\":29,\"itemOrder\":30},{\"id\":30,\"itemOrder\":31},{\"id\":31,\"itemOrder\":32}]},{\"name\":\"Writing Numbers\",\"questionItems\":[{\"id\":34,\"itemOrder\":33},{\"id\":35,\"itemOrder\":34},{\"id\":36,\"itemOrder\":35},{\"id\":33,\"itemOrder\":36},{\"id\":40,\"itemOrder\":37},{\"id\":38,\"itemOrder\":38},{\"id\":37,\"itemOrder\":39},{\"id\":39,\"itemOrder\":40}]},{\"name\":\"Roman Numerals\",\"questionItems\":[{\"id\":44,\"itemOrder\":41},{\"id\":42,\"itemOrder\":42},{\"id\":41,\"itemOrder\":43},{\"id\":43,\"itemOrder\":44}]},{\"name\":\"Comparing Numbers\",\"questionItems\":[{\"id\":71,\"itemOrder\":45},{\"id\":70,\"itemOrder\":46},{\"id\":69,\"itemOrder\":47},{\"id\":72,\"itemOrder\":48},{\"id\":67,\"itemOrder\":49},{\"id\":68,\"itemOrder\":50},{\"id\":65,\"itemOrder\":51},{\"id\":63,\"itemOrder\":52},{\"id\":64,\"itemOrder\":53},{\"id\":66,\"itemOrder\":54},{\"id\":62,\"itemOrder\":55},{\"id\":61,\"itemOrder\":56},{\"id\":58,\"itemOrder\":57},{\"id\":57,\"itemOrder\":58},{\"id\":60,\"itemOrder\":59},{\"id\":59,\"itemOrder\":60},{\"id\":55,\"itemOrder\":61},{\"id\":56,\"itemOrder\":62},{\"id\":54,\"itemOrder\":63},{\"id\":53,\"itemOrder\":64},{\"id\":52,\"itemOrder\":65},{\"id\":49,\"itemOrder\":66},{\"id\":50,\"itemOrder\":67},{\"id\":51,\"itemOrder\":68},{\"id\":47,\"itemOrder\":69},{\"id\":48,\"itemOrder\":70},{\"id\":46,\"itemOrder\":71},{\"id\":45,\"itemOrder\":72}]}]', datetime.datetime(2025, 2, 23, 17, 16, 3))]\n"
     ]
    }
   ],
   "source": [
    "# 获取单条数据\n",
    "result = cursor.fetchall()\n",
    "print(\"Connection established to: \", result)"
   ]
  },
  {
   "cell_type": "code",
   "execution_count": 70,
   "id": "604f6c9f-7072-40b6-bbeb-150b5fe8e5cd",
   "metadata": {},
   "outputs": [
    {
     "data": {
      "text/plain": [
       "73"
      ]
     },
     "execution_count": 70,
     "metadata": {},
     "output_type": "execute_result"
    }
   ],
   "source": [
    "content_id = result[0][15]\n",
    "content_id"
   ]
  },
  {
   "cell_type": "code",
   "execution_count": 71,
   "id": "e31bed0f-f67f-4ebc-9e87-194c5a150bfb",
   "metadata": {},
   "outputs": [
    {
     "data": {
      "text/plain": [
       "'[{\"name\":\"Even and Odd\",\"questionItems\":[{\"id\":1,\"itemOrder\":1},{\"id\":2,\"itemOrder\":2},{\"id\":4,\"itemOrder\":3},{\"id\":6,\"itemOrder\":4},{\"id\":7,\"itemOrder\":5},{\"id\":5,\"itemOrder\":6},{\"id\":3,\"itemOrder\":7},{\"id\":8,\"itemOrder\":8},{\"id\":9,\"itemOrder\":9},{\"id\":11,\"itemOrder\":10},{\"id\":10,\"itemOrder\":11},{\"id\":13,\"itemOrder\":12},{\"id\":12,\"itemOrder\":13},{\"id\":14,\"itemOrder\":14},{\"id\":15,\"itemOrder\":15},{\"id\":16,\"itemOrder\":16}]},{\"name\":\"Counting\",\"questionItems\":[{\"id\":23,\"itemOrder\":17},{\"id\":25,\"itemOrder\":18},{\"id\":27,\"itemOrder\":19},{\"id\":26,\"itemOrder\":20},{\"id\":28,\"itemOrder\":21},{\"id\":24,\"itemOrder\":22},{\"id\":22,\"itemOrder\":23},{\"id\":17,\"itemOrder\":24},{\"id\":18,\"itemOrder\":25},{\"id\":21,\"itemOrder\":26},{\"id\":19,\"itemOrder\":27},{\"id\":20,\"itemOrder\":28}]},{\"name\":\"Ordinal and Cardinal\",\"questionItems\":[{\"id\":32,\"itemOrder\":29},{\"id\":29,\"itemOrder\":30},{\"id\":30,\"itemOrder\":31},{\"id\":31,\"itemOrder\":32}]},{\"name\":\"Writing Numbers\",\"questionItems\":[{\"id\":34,\"itemOrder\":33},{\"id\":35,\"itemOrder\":34},{\"id\":36,\"itemOrder\":35},{\"id\":33,\"itemOrder\":36},{\"id\":40,\"itemOrder\":37},{\"id\":38,\"itemOrder\":38},{\"id\":37,\"itemOrder\":39},{\"id\":39,\"itemOrder\":40}]},{\"name\":\"Roman Numerals\",\"questionItems\":[{\"id\":44,\"itemOrder\":41},{\"id\":42,\"itemOrder\":42},{\"id\":41,\"itemOrder\":43},{\"id\":43,\"itemOrder\":44}]},{\"name\":\"Comparing Numbers\",\"questionItems\":[{\"id\":71,\"itemOrder\":45},{\"id\":70,\"itemOrder\":46},{\"id\":69,\"itemOrder\":47},{\"id\":72,\"itemOrder\":48},{\"id\":67,\"itemOrder\":49},{\"id\":68,\"itemOrder\":50},{\"id\":65,\"itemOrder\":51},{\"id\":63,\"itemOrder\":52},{\"id\":64,\"itemOrder\":53},{\"id\":66,\"itemOrder\":54},{\"id\":62,\"itemOrder\":55},{\"id\":61,\"itemOrder\":56},{\"id\":58,\"itemOrder\":57},{\"id\":57,\"itemOrder\":58},{\"id\":60,\"itemOrder\":59},{\"id\":59,\"itemOrder\":60},{\"id\":55,\"itemOrder\":61},{\"id\":56,\"itemOrder\":62},{\"id\":54,\"itemOrder\":63},{\"id\":53,\"itemOrder\":64},{\"id\":52,\"itemOrder\":65},{\"id\":49,\"itemOrder\":66},{\"id\":50,\"itemOrder\":67},{\"id\":51,\"itemOrder\":68},{\"id\":47,\"itemOrder\":69},{\"id\":48,\"itemOrder\":70},{\"id\":46,\"itemOrder\":71},{\"id\":45,\"itemOrder\":72}]}]'"
      ]
     },
     "execution_count": 71,
     "metadata": {},
     "output_type": "execute_result"
    }
   ],
   "source": [
    "data = result[0][16]\n",
    "data"
   ]
  },
  {
   "cell_type": "code",
   "execution_count": 72,
   "id": "1b29421c-85a4-476f-a458-bbf08551d069",
   "metadata": {},
   "outputs": [
    {
     "data": {
      "text/plain": [
       "[{'name': 'Even and Odd',\n",
       "  'questionItems': [{'id': 1, 'itemOrder': 1},\n",
       "   {'id': 2, 'itemOrder': 2},\n",
       "   {'id': 4, 'itemOrder': 3},\n",
       "   {'id': 6, 'itemOrder': 4},\n",
       "   {'id': 7, 'itemOrder': 5},\n",
       "   {'id': 5, 'itemOrder': 6},\n",
       "   {'id': 3, 'itemOrder': 7},\n",
       "   {'id': 8, 'itemOrder': 8},\n",
       "   {'id': 9, 'itemOrder': 9},\n",
       "   {'id': 11, 'itemOrder': 10},\n",
       "   {'id': 10, 'itemOrder': 11},\n",
       "   {'id': 13, 'itemOrder': 12},\n",
       "   {'id': 12, 'itemOrder': 13},\n",
       "   {'id': 14, 'itemOrder': 14},\n",
       "   {'id': 15, 'itemOrder': 15},\n",
       "   {'id': 16, 'itemOrder': 16}]},\n",
       " {'name': 'Counting',\n",
       "  'questionItems': [{'id': 23, 'itemOrder': 17},\n",
       "   {'id': 25, 'itemOrder': 18},\n",
       "   {'id': 27, 'itemOrder': 19},\n",
       "   {'id': 26, 'itemOrder': 20},\n",
       "   {'id': 28, 'itemOrder': 21},\n",
       "   {'id': 24, 'itemOrder': 22},\n",
       "   {'id': 22, 'itemOrder': 23},\n",
       "   {'id': 17, 'itemOrder': 24},\n",
       "   {'id': 18, 'itemOrder': 25},\n",
       "   {'id': 21, 'itemOrder': 26},\n",
       "   {'id': 19, 'itemOrder': 27},\n",
       "   {'id': 20, 'itemOrder': 28}]},\n",
       " {'name': 'Ordinal and Cardinal',\n",
       "  'questionItems': [{'id': 32, 'itemOrder': 29},\n",
       "   {'id': 29, 'itemOrder': 30},\n",
       "   {'id': 30, 'itemOrder': 31},\n",
       "   {'id': 31, 'itemOrder': 32}]},\n",
       " {'name': 'Writing Numbers',\n",
       "  'questionItems': [{'id': 34, 'itemOrder': 33},\n",
       "   {'id': 35, 'itemOrder': 34},\n",
       "   {'id': 36, 'itemOrder': 35},\n",
       "   {'id': 33, 'itemOrder': 36},\n",
       "   {'id': 40, 'itemOrder': 37},\n",
       "   {'id': 38, 'itemOrder': 38},\n",
       "   {'id': 37, 'itemOrder': 39},\n",
       "   {'id': 39, 'itemOrder': 40}]},\n",
       " {'name': 'Roman Numerals',\n",
       "  'questionItems': [{'id': 44, 'itemOrder': 41},\n",
       "   {'id': 42, 'itemOrder': 42},\n",
       "   {'id': 41, 'itemOrder': 43},\n",
       "   {'id': 43, 'itemOrder': 44}]},\n",
       " {'name': 'Comparing Numbers',\n",
       "  'questionItems': [{'id': 71, 'itemOrder': 45},\n",
       "   {'id': 70, 'itemOrder': 46},\n",
       "   {'id': 69, 'itemOrder': 47},\n",
       "   {'id': 72, 'itemOrder': 48},\n",
       "   {'id': 67, 'itemOrder': 49},\n",
       "   {'id': 68, 'itemOrder': 50},\n",
       "   {'id': 65, 'itemOrder': 51},\n",
       "   {'id': 63, 'itemOrder': 52},\n",
       "   {'id': 64, 'itemOrder': 53},\n",
       "   {'id': 66, 'itemOrder': 54},\n",
       "   {'id': 62, 'itemOrder': 55},\n",
       "   {'id': 61, 'itemOrder': 56},\n",
       "   {'id': 58, 'itemOrder': 57},\n",
       "   {'id': 57, 'itemOrder': 58},\n",
       "   {'id': 60, 'itemOrder': 59},\n",
       "   {'id': 59, 'itemOrder': 60},\n",
       "   {'id': 55, 'itemOrder': 61},\n",
       "   {'id': 56, 'itemOrder': 62},\n",
       "   {'id': 54, 'itemOrder': 63},\n",
       "   {'id': 53, 'itemOrder': 64},\n",
       "   {'id': 52, 'itemOrder': 65},\n",
       "   {'id': 49, 'itemOrder': 66},\n",
       "   {'id': 50, 'itemOrder': 67},\n",
       "   {'id': 51, 'itemOrder': 68},\n",
       "   {'id': 47, 'itemOrder': 69},\n",
       "   {'id': 48, 'itemOrder': 70},\n",
       "   {'id': 46, 'itemOrder': 71},\n",
       "   {'id': 45, 'itemOrder': 72}]}]"
      ]
     },
     "execution_count": 72,
     "metadata": {},
     "output_type": "execute_result"
    }
   ],
   "source": [
    "data = json.loads(data)\n",
    "data"
   ]
  },
  {
   "cell_type": "code",
   "execution_count": 73,
   "id": "6cbe944c-6b6e-4dc9-adb5-72601c4c96b1",
   "metadata": {},
   "outputs": [
    {
     "data": {
      "text/plain": [
       "[{'name': 'Even and Odd',\n",
       "  'questionItems': [{'id': 16, 'itemOrder': 1},\n",
       "   {'id': 15, 'itemOrder': 2},\n",
       "   {'id': 14, 'itemOrder': 3},\n",
       "   {'id': 12, 'itemOrder': 4},\n",
       "   {'id': 13, 'itemOrder': 5},\n",
       "   {'id': 10, 'itemOrder': 6},\n",
       "   {'id': 11, 'itemOrder': 7},\n",
       "   {'id': 9, 'itemOrder': 8},\n",
       "   {'id': 8, 'itemOrder': 9},\n",
       "   {'id': 3, 'itemOrder': 10},\n",
       "   {'id': 5, 'itemOrder': 11},\n",
       "   {'id': 7, 'itemOrder': 12},\n",
       "   {'id': 6, 'itemOrder': 13},\n",
       "   {'id': 4, 'itemOrder': 14},\n",
       "   {'id': 2, 'itemOrder': 15},\n",
       "   {'id': 1, 'itemOrder': 16}]},\n",
       " {'name': 'Counting',\n",
       "  'questionItems': [{'id': 20, 'itemOrder': 1},\n",
       "   {'id': 19, 'itemOrder': 2},\n",
       "   {'id': 21, 'itemOrder': 3},\n",
       "   {'id': 18, 'itemOrder': 4},\n",
       "   {'id': 17, 'itemOrder': 5},\n",
       "   {'id': 22, 'itemOrder': 6},\n",
       "   {'id': 24, 'itemOrder': 7},\n",
       "   {'id': 28, 'itemOrder': 8},\n",
       "   {'id': 26, 'itemOrder': 9},\n",
       "   {'id': 27, 'itemOrder': 10},\n",
       "   {'id': 25, 'itemOrder': 11},\n",
       "   {'id': 23, 'itemOrder': 12}]},\n",
       " {'name': 'Ordinal and Cardinal',\n",
       "  'questionItems': [{'id': 31, 'itemOrder': 1},\n",
       "   {'id': 30, 'itemOrder': 2},\n",
       "   {'id': 29, 'itemOrder': 3},\n",
       "   {'id': 32, 'itemOrder': 4}]},\n",
       " {'name': 'Writing Numbers',\n",
       "  'questionItems': [{'id': 39, 'itemOrder': 1},\n",
       "   {'id': 37, 'itemOrder': 2},\n",
       "   {'id': 38, 'itemOrder': 3},\n",
       "   {'id': 40, 'itemOrder': 4},\n",
       "   {'id': 33, 'itemOrder': 5},\n",
       "   {'id': 36, 'itemOrder': 6},\n",
       "   {'id': 35, 'itemOrder': 7},\n",
       "   {'id': 34, 'itemOrder': 8}]},\n",
       " {'name': 'Roman Numerals',\n",
       "  'questionItems': [{'id': 43, 'itemOrder': 1},\n",
       "   {'id': 41, 'itemOrder': 2},\n",
       "   {'id': 42, 'itemOrder': 3},\n",
       "   {'id': 44, 'itemOrder': 4}]},\n",
       " {'name': 'Comparing Numbers',\n",
       "  'questionItems': [{'id': 45, 'itemOrder': 1},\n",
       "   {'id': 46, 'itemOrder': 2},\n",
       "   {'id': 48, 'itemOrder': 3},\n",
       "   {'id': 47, 'itemOrder': 4},\n",
       "   {'id': 51, 'itemOrder': 5},\n",
       "   {'id': 50, 'itemOrder': 6},\n",
       "   {'id': 49, 'itemOrder': 7},\n",
       "   {'id': 52, 'itemOrder': 8},\n",
       "   {'id': 53, 'itemOrder': 9},\n",
       "   {'id': 54, 'itemOrder': 10},\n",
       "   {'id': 56, 'itemOrder': 11},\n",
       "   {'id': 55, 'itemOrder': 12},\n",
       "   {'id': 59, 'itemOrder': 13},\n",
       "   {'id': 60, 'itemOrder': 14},\n",
       "   {'id': 57, 'itemOrder': 15},\n",
       "   {'id': 58, 'itemOrder': 16},\n",
       "   {'id': 61, 'itemOrder': 17},\n",
       "   {'id': 62, 'itemOrder': 18},\n",
       "   {'id': 66, 'itemOrder': 19},\n",
       "   {'id': 64, 'itemOrder': 20},\n",
       "   {'id': 63, 'itemOrder': 21},\n",
       "   {'id': 65, 'itemOrder': 22},\n",
       "   {'id': 68, 'itemOrder': 23},\n",
       "   {'id': 67, 'itemOrder': 24},\n",
       "   {'id': 72, 'itemOrder': 25},\n",
       "   {'id': 69, 'itemOrder': 26},\n",
       "   {'id': 70, 'itemOrder': 27},\n",
       "   {'id': 71, 'itemOrder': 28}]}]"
      ]
     },
     "execution_count": 73,
     "metadata": {},
     "output_type": "execute_result"
    }
   ],
   "source": [
    "# 对 questionItems 进行倒序排列\n",
    "for division in data:\n",
    "    # 使用 sorted 函数并根据 itemOrder 字段降序排列\n",
    "    sorted_question_items = sorted(division['questionItems'], key=lambda x: x['itemOrder'], reverse=True)\n",
    "    \n",
    "    # 更新 itemOrder 以匹配新的顺序\n",
    "    for index, item in enumerate(sorted_question_items):\n",
    "        item['itemOrder'] = index + 1  # 更新 itemOrder 从 1 开始\n",
    "    \n",
    "    # 替换原始的 questionItems 列表\n",
    "    division['questionItems'] = sorted_question_items\n",
    "data"
   ]
  },
  {
   "cell_type": "code",
   "execution_count": 60,
   "id": "3ce0319e-7806-465b-930e-5a189cf63485",
   "metadata": {},
   "outputs": [
    {
     "data": {
      "text/plain": [
       "'[{\"name\": \"Division\", \"questionItems\": [{\"id\": 550, \"itemOrder\": 1}, {\"id\": 549, \"itemOrder\": 2}, {\"id\": 551, \"itemOrder\": 3}, {\"id\": 552, \"itemOrder\": 4}, {\"id\": 553, \"itemOrder\": 5}, {\"id\": 555, \"itemOrder\": 6}, {\"id\": 554, \"itemOrder\": 7}, {\"id\": 557, \"itemOrder\": 8}, {\"id\": 556, \"itemOrder\": 9}, {\"id\": 559, \"itemOrder\": 10}, {\"id\": 560, \"itemOrder\": 11}, {\"id\": 558, \"itemOrder\": 12}, {\"id\": 561, \"itemOrder\": 13}, {\"id\": 566, \"itemOrder\": 14}, {\"id\": 562, \"itemOrder\": 15}, {\"id\": 565, \"itemOrder\": 16}, {\"id\": 563, \"itemOrder\": 17}, {\"id\": 564, \"itemOrder\": 18}, {\"id\": 567, \"itemOrder\": 19}, {\"id\": 568, \"itemOrder\": 20}, {\"id\": 573, \"itemOrder\": 21}, {\"id\": 569, \"itemOrder\": 22}, {\"id\": 571, \"itemOrder\": 23}, {\"id\": 572, \"itemOrder\": 24}, {\"id\": 570, \"itemOrder\": 25}, {\"id\": 574, \"itemOrder\": 26}, {\"id\": 579, \"itemOrder\": 27}, {\"id\": 577, \"itemOrder\": 28}, {\"id\": 576, \"itemOrder\": 29}, {\"id\": 578, \"itemOrder\": 30}, {\"id\": 580, \"itemOrder\": 31}, {\"id\": 575, \"itemOrder\": 32}]}]'"
      ]
     },
     "execution_count": 60,
     "metadata": {},
     "output_type": "execute_result"
    }
   ],
   "source": [
    "data = str(data).replace(\"'\", '\"')\n",
    "data"
   ]
  },
  {
   "cell_type": "code",
   "execution_count": 63,
   "id": "d2af2160-5378-418b-9e6a-717822a22d2f",
   "metadata": {},
   "outputs": [],
   "source": [
    "# 假设使用PyMySQL\n",
    "with connection.cursor() as cursor:\n",
    "    sql = \"UPDATE t_text_content SET content=%s WHERE id=%s\"\n",
    "    cursor.execute(sql, (data, content_id))\n",
    "connection.commit()"
   ]
  },
  {
   "cell_type": "code",
   "execution_count": null,
   "id": "a208eb08-0e63-4dc8-baf4-2ce2dad474e0",
   "metadata": {},
   "outputs": [],
   "source": []
  }
 ],
 "metadata": {
  "kernelspec": {
   "display_name": "Python 3 (ipykernel)",
   "language": "python",
   "name": "python3"
  },
  "language_info": {
   "codemirror_mode": {
    "name": "ipython",
    "version": 3
   },
   "file_extension": ".py",
   "mimetype": "text/x-python",
   "name": "python",
   "nbconvert_exporter": "python",
   "pygments_lexer": "ipython3",
   "version": "3.9.20"
  }
 },
 "nbformat": 4,
 "nbformat_minor": 5
}
