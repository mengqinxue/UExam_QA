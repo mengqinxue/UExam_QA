{
 "cells": [
  {
   "cell_type": "markdown",
   "id": "dd30d036-51e9-4d61-b1d6-cce8b878aa14",
   "metadata": {},
   "source": [
    "# CS Education"
   ]
  },
  {
   "cell_type": "markdown",
   "id": "0b821557-780b-4513-b2e8-9a1b68241517",
   "metadata": {},
   "source": [
    "Mental Mathematics - year 3/4 (2)"
   ]
  },
  {
   "cell_type": "code",
   "execution_count": 4,
   "id": "9cf1230a-9afe-45f3-ab65-1d8c84c25a13",
   "metadata": {},
   "outputs": [],
   "source": [
    "import random\n",
    "import pandas as pd"
   ]
  },
  {
   "cell_type": "markdown",
   "id": "d04dbbc1-5f49-4dd1-a8cb-740b94259a8e",
   "metadata": {},
   "source": [
    "### Unit 1 "
   ]
  },
  {
   "cell_type": "markdown",
   "id": "3228a6b9-b3cb-4efa-bdbc-a7bf992971d0",
   "metadata": {},
   "source": [
    "Prompt: 帮我出一些小学数学题，例如：题目是 3 * (?) = 30, 选项有4个，分别是 (A) 8; (B) 9; (C) 10; (D) 11; 答案是 C。用 python 实现自动生成这样的数学题。 "
   ]
  },
  {
   "cell_type": "code",
   "execution_count": 5,
   "id": "cc1ebafc-a707-4680-9540-8a7008cd65d3",
   "metadata": {},
   "outputs": [],
   "source": [
    "# 40 个题目，限时 5 分钟\n",
    "def generate_math_multiplication_u1():\n",
    "    multiplier = random.randint(2, 12)  # 随机选择一个乘数\n",
    "    answer = random.randint(2, 12)  # 随机选择一个被乘数\n",
    "    result = multiplier * answer  # 计算结果\n",
    "    \n",
    "    options = set([answer])\n",
    "    while len(options) < 4:\n",
    "        wrong_answer = random.randint(2, 12)\n",
    "        if wrong_answer != answer:\n",
    "            options.add(wrong_answer)\n",
    "    \n",
    "    options = list(options)\n",
    "    random.shuffle(options)\n",
    "    \n",
    "    correct_option = \"ABCD\"[options.index(answer)]  # 找到正确答案的选项\n",
    "    \n",
    "    question = f\"{multiplier} * (?) = {result}\"\n",
    "    return [question, options[0], options[1], options[2], options[3], correct_option]"
   ]
  },
  {
   "cell_type": "code",
   "execution_count": 6,
   "id": "3e98af8e-9be4-4a37-a36f-415aaa36463e",
   "metadata": {},
   "outputs": [
    {
     "name": "stdout",
     "output_type": "stream",
     "text": [
      "        Question  Option_A  Option_B  Option_C  Option_D Answer\n",
      "0   4 * (?) = 44         8         7        11        12      C\n",
      "1   6 * (?) = 24         8        11         4        12      C\n",
      "2   5 * (?) = 50         5         8        11        10      D\n",
      "3  12 * (?) = 96        10         8         2         3      B\n",
      "4   2 * (?) = 18         9         4        10         2      A\n"
     ]
    }
   ],
   "source": [
    "data = [generate_math_multiplication_u1() for _ in range(5)]\n",
    "df = pd.DataFrame(data, columns=[\"Question\", \"Option_A\", \"Option_B\", \"Option_C\", \"Option_D\", \"Answer\"])\n",
    "print(df)"
   ]
  },
  {
   "cell_type": "markdown",
   "id": "aa075eb5-accb-41a2-8bd9-06d252442f4a",
   "metadata": {},
   "source": [
    "### Unit 2"
   ]
  },
  {
   "cell_type": "code",
   "execution_count": null,
   "id": "152d17a3-5f29-4257-8ab1-ac89c3233b09",
   "metadata": {},
   "outputs": [],
   "source": []
  },
  {
   "cell_type": "code",
   "execution_count": 7,
   "id": "34e7e61b-3ca0-47e8-a3be-e3d7468621b4",
   "metadata": {},
   "outputs": [],
   "source": [
    "def generate_math_multiplication_u2():\n",
    "    multiplier = random.randint(10, 99)  # 两位数乘数\n",
    "    answer = random.randint(2, 9)  # 一位数乘数\n",
    "    result = multiplier * answer  # 计算结果\n",
    "    \n",
    "    options = set([result])\n",
    "    while len(options) < 4:\n",
    "        wrong_answer = random.randint(multiplier * 1, multiplier * 9)\n",
    "        if wrong_answer != result:\n",
    "            options.add(wrong_answer)\n",
    "    \n",
    "    options = list(options)\n",
    "    random.shuffle(options)\n",
    "    \n",
    "    correct_option = \"ABCD\"[options.index(result)]  # 找到正确答案的选项\n",
    "    \n",
    "    question = f\"{multiplier} * {answer} = ?\"\n",
    "    return [question, options[0], options[1], options[2], options[3], correct_option]"
   ]
  },
  {
   "cell_type": "code",
   "execution_count": 9,
   "id": "884d9705-03c6-4e4d-afb1-0152b1ee2137",
   "metadata": {},
   "outputs": [
    {
     "name": "stdout",
     "output_type": "stream",
     "text": [
      "     Question  Option_A  Option_B  Option_C  Option_D Answer\n",
      "0  63 * 7 = ?       349       559       441       474      C\n",
      "1  31 * 9 = ?       279       190       179        58      A\n",
      "2  32 * 7 = ?       107       224        53       211      B\n",
      "3  97 * 4 = ?       388       584       395       255      A\n",
      "4  56 * 8 = ?       343       338       448       443      C\n"
     ]
    }
   ],
   "source": [
    "data = [generate_math_multiplication_u2() for _ in range(5)]\n",
    "df = pd.DataFrame(data, columns=[\"Question\", \"Option_A\", \"Option_B\", \"Option_C\", \"Option_D\", \"Answer\"])\n",
    "print(df)"
   ]
  },
  {
   "cell_type": "markdown",
   "id": "81fcb861-c80c-4122-81b3-d5e5a154b684",
   "metadata": {},
   "source": [
    "### Unit 3"
   ]
  },
  {
   "cell_type": "code",
   "execution_count": 10,
   "id": "b50ee832-5a33-4639-8b2d-85cc669bcdb7",
   "metadata": {},
   "outputs": [],
   "source": [
    "def generate_math_multiplication_u3():\n",
    "    multiplier1 = random.randint(10, 99)  # 任意两位数\n",
    "    multiplier2 = random.choice([10, 20, 30, 40, 50, 60, 70, 80, 90])  # 选择个位数是0的整数\n",
    "    result = multiplier1 * multiplier2  # 计算结果\n",
    "    \n",
    "    options = set([result])\n",
    "    while len(options) < 4:\n",
    "        wrong_answer = random.randint(100, 9900)  # 生成错误答案\n",
    "        if wrong_answer != result:\n",
    "            options.add(wrong_answer)\n",
    "    \n",
    "    options = list(options)\n",
    "    random.shuffle(options)\n",
    "    \n",
    "    correct_option = \"ABCD\"[options.index(result)]  # 找到正确答案的选项\n",
    "    \n",
    "    question = f\"{multiplier1} * {multiplier2} = ?\"\n",
    "    return [question, options[0], options[1], options[2], options[3], correct_option]"
   ]
  },
  {
   "cell_type": "code",
   "execution_count": 11,
   "id": "df527db8-e2da-484c-b05d-697786516f08",
   "metadata": {},
   "outputs": [
    {
     "name": "stdout",
     "output_type": "stream",
     "text": [
      "      Question  Option_A  Option_B  Option_C  Option_D Answer\n",
      "0  49 * 30 = ?      1470      8809      3861       381      A\n",
      "1  13 * 80 = ?      4714      6227      3674      1040      D\n",
      "2  61 * 70 = ?      7119      6899      4270      7086      C\n",
      "3  56 * 90 = ?      7968      5040      5987      5293      B\n",
      "4  27 * 50 = ?      1350      7305       333      8454      A\n"
     ]
    }
   ],
   "source": [
    "data = [generate_math_multiplication_u3() for _ in range(5)]\n",
    "df = pd.DataFrame(data, columns=[\"Question\", \"Option_A\", \"Option_B\", \"Option_C\", \"Option_D\", \"Answer\"])\n",
    "print(df)"
   ]
  },
  {
   "cell_type": "markdown",
   "id": "89c579b8-f133-437d-af84-74a26dca2238",
   "metadata": {},
   "source": [
    "### Unit 4"
   ]
  },
  {
   "cell_type": "markdown",
   "id": "70adf58f-bee0-403f-9fa3-c8bed159bbea",
   "metadata": {},
   "source": [
    "Prompt: 再帮我出一些小学数学题，例如：题目是两位小数相加，例如： 4.59 + 2.68 = 7.27, 选项有4个，三个干扰选项，一个答案; 答案是 B。用 python 实现自动生成这样的数学题。题目包括三种类型，一位小数相加，两位小数相加，三位小数相加，一位小数加两位小数，一位小数加三位小数，两位小数加三位小数。 "
   ]
  },
  {
   "cell_type": "code",
   "execution_count": 21,
   "id": "4fdb3245-827f-4c35-bc06-6837900b7692",
   "metadata": {},
   "outputs": [],
   "source": [
    "def generate_math_add_decimal_u4():\n",
    "    decimal_types = [\n",
    "        (1, 1), (2, 2), (3, 3), (1, 2), (1, 3), (2, 3)  # 不同的小数类型\n",
    "    ]\n",
    "    decimal_places1, decimal_places2 = random.choice(decimal_types)\n",
    "    \n",
    "    num1 = round(random.uniform(1, 99), decimal_places1)\n",
    "    num2 = round(random.uniform(1, 99), decimal_places2)\n",
    "    result = round(num1 + num2, max(decimal_places1, decimal_places2))\n",
    "    \n",
    "    options = set([result])\n",
    "    while len(options) < 4:\n",
    "        wrong_answer = round(random.uniform(result - 5, result + 5), max(decimal_places1, decimal_places2))\n",
    "        if wrong_answer != result:\n",
    "            options.add(wrong_answer)\n",
    "    \n",
    "    options = list(options)\n",
    "    random.shuffle(options)\n",
    "    \n",
    "    correct_option = \"ABCD\"[options.index(result)]  # 找到正确答案的选项\n",
    "    \n",
    "    question = f\"{num1} + {num2} = ?\"\n",
    "    return [question, options[0], options[1], options[2], options[3], correct_option]"
   ]
  },
  {
   "cell_type": "code",
   "execution_count": 22,
   "id": "560a057d-0b08-471b-80bc-cf9ecdc7035f",
   "metadata": {},
   "outputs": [
    {
     "name": "stdout",
     "output_type": "stream",
     "text": [
      "            Question  Option_A  Option_B  Option_C  Option_D Answer\n",
      "0   12.0 + 86.91 = ?     97.18   100.280   102.220     98.91      D\n",
      "1  10.0 + 41.664 = ?     49.87    51.664    47.919     47.98      B\n",
      "2   9.83 + 29.26 = ?     39.09    42.830    40.250     40.56      A\n",
      "3   38.7 + 34.97 = ?     73.67    71.740    77.940     77.10      A\n",
      "4  53.47 + 94.08 = ?    147.55   145.120   143.680    143.33      A\n"
     ]
    }
   ],
   "source": [
    "data = [generate_math_add_decimal_u4() for _ in range(5)]\n",
    "df = pd.DataFrame(data, columns=[\"Question\", \"Option_A\", \"Option_B\", \"Option_C\", \"Option_D\", \"Answer\"])\n",
    "print(df)"
   ]
  },
  {
   "cell_type": "markdown",
   "id": "beb99932-6678-4000-a88d-aeb0ab3a6140",
   "metadata": {},
   "source": [
    "### Unit 5"
   ]
  },
  {
   "cell_type": "markdown",
   "id": "2baad1fa-fd1b-4dbb-82ad-a8d09de5c424",
   "metadata": {},
   "source": [
    "Prompt: 再帮我出一些小学数学题，例如：题目是两位小数减，例如： 4.79 - 2.68 = 2.11, 选项有4个，三个干扰选项，一个答案; 答案是 B。用 python 实现自动生成这样的数学题。题目包括三种类型，一位小数相减，两位小数相减，三位小数相减，一位小数减两位小数，一位小数减三位小数，两位小数减三位小数。 要求结果不可以是负数。"
   ]
  },
  {
   "cell_type": "code",
   "execution_count": 19,
   "id": "6c12f143-c40d-42df-8ed1-b05c4899d736",
   "metadata": {},
   "outputs": [],
   "source": [
    "def generate_math_subtract_decimal_u5():\n",
    "    decimal_types = [\n",
    "        (1, 1), (2, 2), (3, 3), (1, 2), (1, 3), (2, 3)  # 不同的小数类型\n",
    "    ]\n",
    "    decimal_places1, decimal_places2 = random.choice(decimal_types)\n",
    "    \n",
    "    num1 = round(random.uniform(1, 99), decimal_places1)\n",
    "    num2 = round(random.uniform(1, num1), decimal_places2)  # 确保结果不为负数\n",
    "    result = round(num1 - num2, max(decimal_places1, decimal_places2))\n",
    "    \n",
    "    options = set([result])\n",
    "    while len(options) < 4:\n",
    "        wrong_answer = round(random.uniform(result - 5, result + 5), max(decimal_places1, decimal_places2))\n",
    "        if wrong_answer != result and wrong_answer >= 0:\n",
    "            options.add(wrong_answer)\n",
    "    \n",
    "    options = list(options)\n",
    "    random.shuffle(options)\n",
    "    \n",
    "    correct_option = \"ABCD\"[options.index(result)]  # 找到正确答案的选项\n",
    "    \n",
    "    question = f\"{num1} - {num2} = ?\"\n",
    "    return [question, options[0], options[1], options[2], options[3], correct_option]"
   ]
  },
  {
   "cell_type": "code",
   "execution_count": 20,
   "id": "b124bc9b-332e-4f9e-a70a-f0fb149584b4",
   "metadata": {},
   "outputs": [
    {
     "name": "stdout",
     "output_type": "stream",
     "text": [
      "             Question  Option_A  Option_B  Option_C  Option_D Answer\n",
      "0     90.4 - 54.1 = ?    36.300    31.400    40.300    41.200      A\n",
      "1    53.6 - 32.77 = ?    18.780    18.390    20.830    23.630      C\n",
      "2    27.5 - 25.95 = ?     2.620     1.660     1.550     5.540      C\n",
      "3  36.25 - 35.988 = ?     3.369     0.382     0.262     1.431      C\n",
      "4     6.3 - 5.069 = ?     0.884     4.128     1.231     3.928      C\n"
     ]
    }
   ],
   "source": [
    "data = [generate_math_subtract_decimal_u5() for _ in range(5)]\n",
    "df = pd.DataFrame(data, columns=[\"Question\", \"Option_A\", \"Option_B\", \"Option_C\", \"Option_D\", \"Answer\"])\n",
    "print(df)"
   ]
  },
  {
   "cell_type": "markdown",
   "id": "6383c116-4fcc-453b-9fa4-e017a346632c",
   "metadata": {},
   "source": [
    "### Unit 6"
   ]
  },
  {
   "cell_type": "markdown",
   "id": "807cb2c1-721e-4d20-9c56-ac25f81a0a27",
   "metadata": {},
   "source": [
    "prompt 再帮我出一些小学数学题，小数乘以一位整数，题目包括三种类型，一位小数乘以整数，两位小数乘以整数，三位小数乘以整数。 "
   ]
  },
  {
   "cell_type": "code",
   "execution_count": 23,
   "id": "f43ff305-372b-4aba-a6f7-425e4dde2aa9",
   "metadata": {},
   "outputs": [],
   "source": [
    "def generate_math_mul_u6():\n",
    "    decimal_types = [1, 2, 3]  # 一位、两位、三位小数\n",
    "    decimal_places = random.choice(decimal_types)\n",
    "    \n",
    "    num1 = round(random.uniform(1, 99), decimal_places)  # 生成小数\n",
    "    num2 = random.randint(1, 9)  # 生成一位整数\n",
    "    result = round(num1 * num2, decimal_places)  # 计算结果\n",
    "    \n",
    "    options = set([result])\n",
    "    while len(options) < 4:\n",
    "        wrong_answer = round(random.uniform(result - 10, result + 10), decimal_places)\n",
    "        if wrong_answer != result and wrong_answer >= 0:\n",
    "            options.add(wrong_answer)\n",
    "    \n",
    "    options = list(options)\n",
    "    random.shuffle(options)\n",
    "    \n",
    "    correct_option = \"ABCD\"[options.index(result)]  # 找到正确答案的选项\n",
    "    \n",
    "    question = f\"{num1} × {num2} = ?\"\n",
    "    return [question, options[0], options[1], options[2], options[3], correct_option]"
   ]
  },
  {
   "cell_type": "code",
   "execution_count": 24,
   "id": "054c872c-693a-4e5f-8e1d-373bc38a93e3",
   "metadata": {},
   "outputs": [
    {
     "name": "stdout",
     "output_type": "stream",
     "text": [
      "         Question  Option_A  Option_B  Option_C  Option_D Answer\n",
      "0   52.37 × 8 = ?   412.570   418.960   422.150   427.110      B\n",
      "1  13.121 × 6 = ?    81.358    70.033    78.726    81.499      C\n",
      "2   52.31 × 7 = ?   357.240   365.440   360.320   366.170      D\n",
      "3   2.368 × 7 = ?    23.094     6.732    18.371    16.576      D\n",
      "4   25.72 × 7 = ?   173.530   189.430   184.380   180.040      D\n"
     ]
    }
   ],
   "source": [
    "data = [generate_math_mul_u6() for _ in range(5)]\n",
    "df = pd.DataFrame(data, columns=[\"Question\", \"Option_A\", \"Option_B\", \"Option_C\", \"Option_D\", \"Answer\"])\n",
    "print(df)"
   ]
  },
  {
   "cell_type": "markdown",
   "id": "49787a53-27f2-46f3-8288-e82a08f03578",
   "metadata": {},
   "source": [
    "### Unit 7"
   ]
  },
  {
   "cell_type": "markdown",
   "id": "0246fc9c-acef-4bd5-ac8b-16a6ff0e5fce",
   "metadata": {},
   "source": [
    "Prompt 再帮我出一些小学数学题，整数除以一位整数，题目包括两种类型，一位整数除以以一位整数，两位整数乘以一位整数，0除以一位整数。要求结果也是整数。"
   ]
  },
  {
   "cell_type": "code",
   "execution_count": 25,
   "id": "cd4fa4a3-ceee-4ebb-8179-e32461d43d18",
   "metadata": {},
   "outputs": [],
   "source": [
    "def generate_math_div_u7():\n",
    "    question_types = [\"one_digit\", \"two_digit\", \"zero_div\"]\n",
    "    question_type = random.choice(question_types)\n",
    "    \n",
    "    if question_type == \"one_digit\":\n",
    "        num2 = random.randint(1, 9)  # 生成一位整数\n",
    "        num1 = num2 * random.randint(1, 9)  # 确保结果是整数\n",
    "    elif question_type == \"two_digit\":\n",
    "        num2 = random.randint(1, 9)\n",
    "        num1 = num2 * random.randint(10, 99)  # 确保两位整数除以一位整数，结果仍为整数\n",
    "    else:  # 0 除以一位整数\n",
    "        num1 = 0\n",
    "        num2 = random.randint(1, 9)\n",
    "    \n",
    "    result = num1 // num2  # 计算结果\n",
    "    \n",
    "    options = set([result])\n",
    "    while len(options) < 4:\n",
    "        wrong_answer = random.randint(0, 99)\n",
    "        if wrong_answer != result:\n",
    "            options.add(wrong_answer)\n",
    "    \n",
    "    options = list(options)\n",
    "    random.shuffle(options)\n",
    "    \n",
    "    correct_option = \"ABCD\"[options.index(result)]  # 找到正确答案的选项\n",
    "    \n",
    "    question = f\"{num1} ÷ {num2} = ?\"\n",
    "    return [question, options[0], options[1], options[2], options[3], correct_option]"
   ]
  },
  {
   "cell_type": "code",
   "execution_count": 26,
   "id": "aa8574ad-f2cc-4e3c-8eb3-f4251368843c",
   "metadata": {},
   "outputs": [
    {
     "name": "stdout",
     "output_type": "stream",
     "text": [
      "            题目   A   B   C   D 答案\n",
      "0    0 ÷ 7 = ?   0  29  71  96  A\n",
      "1  344 ÷ 4 = ?  86  48  31  78  A\n",
      "2  146 ÷ 2 = ?  83  21  73  57  C\n",
      "3   42 ÷ 2 = ?  34  45  21  13  C\n",
      "4    0 ÷ 1 = ?   0  48  84   8  A\n"
     ]
    }
   ],
   "source": [
    "data = [generate_math_div_u7() for _ in range(5)]\n",
    "df = pd.DataFrame(data, columns=[\"Question\", \"Option_A\", \"Option_B\", \"Option_C\", \"Option_D\", \"Answer\"])\n",
    "print(df)"
   ]
  },
  {
   "cell_type": "markdown",
   "id": "37aebce5-e076-4c59-81de-5b0578f5d43a",
   "metadata": {},
   "source": [
    "### Unit 8 - 除法有余数"
   ]
  },
  {
   "cell_type": "markdown",
   "id": "83f2a254-9431-4e2d-92bb-4c988174ec08",
   "metadata": {},
   "source": [
    "Prompt 再帮我出一些小学数学题，整数除以一位整数，题目包括两种类型，一位整数除以以一位整数，两位整数乘以一位整数。要求结果有余数。选项即有商，也有余数。 "
   ]
  },
  {
   "cell_type": "code",
   "execution_count": 27,
   "id": "f44ca63f-6039-4f8f-9d01-8ad9724940bb",
   "metadata": {},
   "outputs": [],
   "source": [
    "def generate_math_div_u8():\n",
    "    question_types = [\"one_digit\", \"two_digit\"]\n",
    "    question_type = random.choice(question_types)\n",
    "    \n",
    "    if question_type == \"one_digit\":\n",
    "        num1 = random.randint(2, 9)  # 一位整数\n",
    "        num2 = random.randint(1, 9)\n",
    "    else:  # 两位整数\n",
    "        num1 = random.randint(10, 99)\n",
    "        num2 = random.randint(2, 9)\n",
    "    \n",
    "    while num1 % num2 == 0:  # 确保有余数\n",
    "        num1 = random.randint(10, 99) if question_type == \"two_digit\" else random.randint(2, 9)\n",
    "        num2 = random.randint(1, 9)\n",
    "    \n",
    "    quotient = num1 // num2  # 商\n",
    "    remainder = num1 % num2  # 余数\n",
    "    result = f\"{quotient}...{remainder}\"  # 格式化为“商...余数”\n",
    "    \n",
    "    options = set([result])\n",
    "    while len(options) < 4:\n",
    "        wrong_quotient = random.randint(0, 9)\n",
    "        wrong_remainder = random.randint(0, num2 - 1)\n",
    "        wrong_answer = f\"{wrong_quotient}...{wrong_remainder}\"\n",
    "        if wrong_answer != result:\n",
    "            options.add(wrong_answer)\n",
    "    \n",
    "    options = list(options)\n",
    "    random.shuffle(options)\n",
    "    \n",
    "    correct_option = \"ABCD\"[options.index(result)]  # 找到正确答案的选项\n",
    "    \n",
    "    question = f\"{num1} ÷ {num2} = ? (商...余数)\"\n",
    "    return [question, options[0], options[1], options[2], options[3], correct_option]"
   ]
  },
  {
   "cell_type": "code",
   "execution_count": 29,
   "id": "9a7827d8-23ed-409e-8561-aa1d56cee866",
   "metadata": {},
   "outputs": [
    {
     "name": "stdout",
     "output_type": "stream",
     "text": [
      "              Question Option_A Option_B Option_C Option_D Answer\n",
      "0  26 ÷ 3 = ? (商...余数)    1...2    3...2    8...2    2...2      C\n",
      "1   4 ÷ 8 = ? (商...余数)    7...1    1...0    7...4    0...4      D\n",
      "2   5 ÷ 8 = ? (商...余数)    0...5    3...2    0...3    1...4      A\n",
      "3  94 ÷ 5 = ? (商...余数)    2...3    3...0    9...3   18...4      D\n",
      "4   7 ÷ 5 = ? (商...余数)    1...2    7...4    4...1    6...4      A\n"
     ]
    }
   ],
   "source": [
    "data = [generate_math_div_u8() for _ in range(5)]\n",
    "df = pd.DataFrame(data, columns=[\"Question\", \"Option_A\", \"Option_B\", \"Option_C\", \"Option_D\", \"Answer\"])\n",
    "print(df)"
   ]
  },
  {
   "cell_type": "markdown",
   "id": "bf9eb64b-ac46-4ad3-be1f-636da7361a2f",
   "metadata": {},
   "source": [
    "### Unit 9 - 乘法：三位数 * 一位数"
   ]
  },
  {
   "cell_type": "markdown",
   "id": "9514cb44-ed33-4939-873c-0513d45c73b5",
   "metadata": {},
   "source": [
    "Prompt: 再帮我出一些小学数学题，三位数乘以一位整数。 "
   ]
  },
  {
   "cell_type": "code",
   "execution_count": 30,
   "id": "6a965279-42c0-448a-8abc-9082de8efe94",
   "metadata": {},
   "outputs": [],
   "source": [
    "def generate_math_multi_u9():\n",
    "    num1 = random.randint(100, 999)  # 三位数\n",
    "    num2 = random.randint(1, 9)  # 一位整数\n",
    "    result = num1 * num2  # 计算结果\n",
    "    \n",
    "    options = set([result])\n",
    "    while len(options) < 4:\n",
    "        wrong_answer = random.randint(result - 100, result + 100)\n",
    "        if wrong_answer != result and wrong_answer > 0:\n",
    "            options.add(wrong_answer)\n",
    "    \n",
    "    options = list(options)\n",
    "    random.shuffle(options)\n",
    "    \n",
    "    correct_option = \"ABCD\"[options.index(result)]  # 找到正确答案的选项\n",
    "    \n",
    "    question = f\"{num1} × {num2} = ?\"\n",
    "    return [question, options[0], options[1], options[2], options[3], correct_option]"
   ]
  },
  {
   "cell_type": "code",
   "execution_count": 31,
   "id": "f14cc2c8-7fc2-4470-a61b-788aa64b042c",
   "metadata": {},
   "outputs": [
    {
     "name": "stdout",
     "output_type": "stream",
     "text": [
      "      Question  Option_A  Option_B  Option_C  Option_D Answer\n",
      "0  408 × 7 = ?      2855      2761      2766      2856      D\n",
      "1  636 × 1 = ?       731       636       574       587      B\n",
      "2  442 × 7 = ?      3029      3162      3094      3122      C\n",
      "3  123 × 5 = ?       615       657       604       618      A\n",
      "4  354 × 7 = ?      2478      2502      2550      2399      A\n"
     ]
    }
   ],
   "source": [
    "data = [generate_math_multi_u9() for _ in range(5)]\n",
    "df = pd.DataFrame(data, columns=[\"Question\", \"Option_A\", \"Option_B\", \"Option_C\", \"Option_D\", \"Answer\"])\n",
    "print(df)"
   ]
  },
  {
   "cell_type": "markdown",
   "id": "29016b99-5c48-44a0-9155-2bd65ee019d1",
   "metadata": {},
   "source": [
    "### Unit 10 - 两位数 * 两位数 "
   ]
  },
  {
   "cell_type": "code",
   "execution_count": 34,
   "id": "2fdcfe30-841c-4785-9c9a-b833782f9407",
   "metadata": {},
   "outputs": [],
   "source": [
    "def generate_math_multi_u10():\n",
    "    num1 = random.randint(10, 99)  # 三位数\n",
    "    num2 = random.randint(10, 99)  # 一位整数\n",
    "    result = num1 * num2  # 计算结果\n",
    "    \n",
    "    options = set([result])\n",
    "    while len(options) < 4:\n",
    "        wrong_answer = random.randint(result - 100, result + 100)\n",
    "        if wrong_answer != result and wrong_answer > 0:\n",
    "            options.add(wrong_answer)\n",
    "    \n",
    "    options = list(options)\n",
    "    random.shuffle(options)\n",
    "    \n",
    "    correct_option = \"ABCD\"[options.index(result)]  # 找到正确答案的选项\n",
    "    \n",
    "    question = f\"{num1} × {num2} = ?\"\n",
    "    return [question, options[0], options[1], options[2], options[3], correct_option]"
   ]
  },
  {
   "cell_type": "code",
   "execution_count": 35,
   "id": "f6805e63-4c6b-4108-8d70-4441b651fa32",
   "metadata": {},
   "outputs": [
    {
     "name": "stdout",
     "output_type": "stream",
     "text": [
      "      Question  Option_A  Option_B  Option_C  Option_D Answer\n",
      "0  91 × 39 = ?      3549      3482      3592      3587      A\n",
      "1  24 × 30 = ?       629       720       708       786      B\n",
      "2  65 × 23 = ?      1495      1493      1587      1517      A\n",
      "3  43 × 93 = ?      3999      4048      4006      4036      A\n",
      "4  71 × 58 = ?      4044      4164      4118      4103      C\n"
     ]
    }
   ],
   "source": [
    "data = [generate_math_multi_u10() for _ in range(5)]\n",
    "df = pd.DataFrame(data, columns=[\"Question\", \"Option_A\", \"Option_B\", \"Option_C\", \"Option_D\", \"Answer\"])\n",
    "print(df)"
   ]
  },
  {
   "cell_type": "markdown",
   "id": "971d9197-33be-49cd-bfdf-f09abc516469",
   "metadata": {},
   "source": [
    "# 写入数据库"
   ]
  },
  {
   "cell_type": "code",
   "execution_count": 157,
   "id": "ccb12343-b967-4d4c-aa50-a99a21eae6aa",
   "metadata": {},
   "outputs": [],
   "source": [
    "import json\n",
    "import pandas as pd"
   ]
  },
  {
   "cell_type": "code",
   "execution_count": 158,
   "id": "bec701a9-6037-4dfd-aad7-22b214c23406",
   "metadata": {},
   "outputs": [],
   "source": [
    "# 读取 CSV 文件\n",
    "df_q_template = pd.read_csv(\"t_question_202501302121.csv\")\n",
    "df_t_template = pd.read_csv(\"t_text_content_202501302124.csv\")\n",
    "df_q = df_q_template.iloc[0:0]\n",
    "df_t = df_t_template.iloc[0:0]"
   ]
  },
  {
   "cell_type": "code",
   "execution_count": 159,
   "id": "ecd3912a-51ea-4cc5-9a6f-aeb4f5ff2a3f",
   "metadata": {},
   "outputs": [
    {
     "data": {
      "text/html": [
       "<div>\n",
       "<style scoped>\n",
       "    .dataframe tbody tr th:only-of-type {\n",
       "        vertical-align: middle;\n",
       "    }\n",
       "\n",
       "    .dataframe tbody tr th {\n",
       "        vertical-align: top;\n",
       "    }\n",
       "\n",
       "    .dataframe thead th {\n",
       "        text-align: right;\n",
       "    }\n",
       "</style>\n",
       "<table border=\"1\" class=\"dataframe\">\n",
       "  <thead>\n",
       "    <tr style=\"text-align: right;\">\n",
       "      <th></th>\n",
       "      <th>id</th>\n",
       "      <th>question_type</th>\n",
       "      <th>subject_id</th>\n",
       "      <th>score</th>\n",
       "      <th>grade_level</th>\n",
       "      <th>difficult</th>\n",
       "      <th>correct</th>\n",
       "      <th>info_text_content_id</th>\n",
       "      <th>create_user</th>\n",
       "      <th>status</th>\n",
       "      <th>create_time</th>\n",
       "      <th>deleted</th>\n",
       "    </tr>\n",
       "  </thead>\n",
       "  <tbody>\n",
       "  </tbody>\n",
       "</table>\n",
       "</div>"
      ],
      "text/plain": [
       "Empty DataFrame\n",
       "Columns: [id, question_type, subject_id, score, grade_level, difficult, correct, info_text_content_id, create_user, status, create_time, deleted]\n",
       "Index: []"
      ]
     },
     "execution_count": 159,
     "metadata": {},
     "output_type": "execute_result"
    }
   ],
   "source": [
    "df_q"
   ]
  },
  {
   "cell_type": "code",
   "execution_count": 160,
   "id": "27f1b251-ff9d-4eb8-b378-f7bb137ad0f2",
   "metadata": {},
   "outputs": [
    {
     "data": {
      "text/html": [
       "<div>\n",
       "<style scoped>\n",
       "    .dataframe tbody tr th:only-of-type {\n",
       "        vertical-align: middle;\n",
       "    }\n",
       "\n",
       "    .dataframe tbody tr th {\n",
       "        vertical-align: top;\n",
       "    }\n",
       "\n",
       "    .dataframe thead th {\n",
       "        text-align: right;\n",
       "    }\n",
       "</style>\n",
       "<table border=\"1\" class=\"dataframe\">\n",
       "  <thead>\n",
       "    <tr style=\"text-align: right;\">\n",
       "      <th></th>\n",
       "      <th>id</th>\n",
       "      <th>content</th>\n",
       "      <th>create_time</th>\n",
       "    </tr>\n",
       "  </thead>\n",
       "  <tbody>\n",
       "  </tbody>\n",
       "</table>\n",
       "</div>"
      ],
      "text/plain": [
       "Empty DataFrame\n",
       "Columns: [id, content, create_time]\n",
       "Index: []"
      ]
     },
     "execution_count": 160,
     "metadata": {},
     "output_type": "execute_result"
    }
   ],
   "source": [
    "df_t"
   ]
  },
  {
   "cell_type": "code",
   "execution_count": 161,
   "id": "068b6cd1-7058-4c0e-bd5e-cb00d2e1781c",
   "metadata": {},
   "outputs": [
    {
     "data": {
      "text/html": [
       "<div>\n",
       "<style scoped>\n",
       "    .dataframe tbody tr th:only-of-type {\n",
       "        vertical-align: middle;\n",
       "    }\n",
       "\n",
       "    .dataframe tbody tr th {\n",
       "        vertical-align: top;\n",
       "    }\n",
       "\n",
       "    .dataframe thead th {\n",
       "        text-align: right;\n",
       "    }\n",
       "</style>\n",
       "<table border=\"1\" class=\"dataframe\">\n",
       "  <thead>\n",
       "    <tr style=\"text-align: right;\">\n",
       "      <th></th>\n",
       "      <th>Question</th>\n",
       "      <th>Option_A</th>\n",
       "      <th>Option_B</th>\n",
       "      <th>Option_C</th>\n",
       "      <th>Option_D</th>\n",
       "      <th>Answer</th>\n",
       "    </tr>\n",
       "  </thead>\n",
       "  <tbody>\n",
       "    <tr>\n",
       "      <th>0</th>\n",
       "      <td>91 × 39 = ?</td>\n",
       "      <td>3549</td>\n",
       "      <td>3482</td>\n",
       "      <td>3592</td>\n",
       "      <td>3587</td>\n",
       "      <td>A</td>\n",
       "    </tr>\n",
       "    <tr>\n",
       "      <th>1</th>\n",
       "      <td>24 × 30 = ?</td>\n",
       "      <td>629</td>\n",
       "      <td>720</td>\n",
       "      <td>708</td>\n",
       "      <td>786</td>\n",
       "      <td>B</td>\n",
       "    </tr>\n",
       "    <tr>\n",
       "      <th>2</th>\n",
       "      <td>65 × 23 = ?</td>\n",
       "      <td>1495</td>\n",
       "      <td>1493</td>\n",
       "      <td>1587</td>\n",
       "      <td>1517</td>\n",
       "      <td>A</td>\n",
       "    </tr>\n",
       "    <tr>\n",
       "      <th>3</th>\n",
       "      <td>43 × 93 = ?</td>\n",
       "      <td>3999</td>\n",
       "      <td>4048</td>\n",
       "      <td>4006</td>\n",
       "      <td>4036</td>\n",
       "      <td>A</td>\n",
       "    </tr>\n",
       "    <tr>\n",
       "      <th>4</th>\n",
       "      <td>71 × 58 = ?</td>\n",
       "      <td>4044</td>\n",
       "      <td>4164</td>\n",
       "      <td>4118</td>\n",
       "      <td>4103</td>\n",
       "      <td>C</td>\n",
       "    </tr>\n",
       "  </tbody>\n",
       "</table>\n",
       "</div>"
      ],
      "text/plain": [
       "      Question  Option_A  Option_B  Option_C  Option_D Answer\n",
       "0  91 × 39 = ?      3549      3482      3592      3587      A\n",
       "1  24 × 30 = ?       629       720       708       786      B\n",
       "2  65 × 23 = ?      1495      1493      1587      1517      A\n",
       "3  43 × 93 = ?      3999      4048      4006      4036      A\n",
       "4  71 × 58 = ?      4044      4164      4118      4103      C"
      ]
     },
     "execution_count": 161,
     "metadata": {},
     "output_type": "execute_result"
    }
   ],
   "source": [
    "df"
   ]
  },
  {
   "cell_type": "code",
   "execution_count": 162,
   "id": "87282684-19ef-43f1-95a8-f1326b31a539",
   "metadata": {},
   "outputs": [],
   "source": [
    "df_q_create_time = df_q_template.iloc[-1, -2]\n",
    "df_t_create_time = df_t_template.iloc[-1, -1]"
   ]
  },
  {
   "cell_type": "code",
   "execution_count": 163,
   "id": "b48e9d2d-9e0e-4c68-92b1-8186f6e92077",
   "metadata": {},
   "outputs": [
    {
     "name": "stdout",
     "output_type": "stream",
     "text": [
      "[3549, 3482, 3592, 3587]\n",
      "{\"titleContent\": \"91 × 39 = ?\", \"analyze\": \"<p>无</p><br/>\", \"questionItemObjects\": [{\"prefix\": \"A\", \"content\": \"3549\", \"score\": null, \"itemUuid\": null}, {\"prefix\": \"B\", \"content\": \"3482\", \"score\": null, \"itemUuid\": null}, {\"prefix\": \"C\", \"content\": \"3592\", \"score\": null, \"itemUuid\": null}, {\"prefix\": \"D\", \"content\": \"3587\", \"score\": null, \"itemUuid\": null}], \"correct\": \"A\"}\n",
      "[629, 720, 708, 786]\n",
      "{\"titleContent\": \"24 × 30 = ?\", \"analyze\": \"<p>无</p><br/>\", \"questionItemObjects\": [{\"prefix\": \"A\", \"content\": \"629\", \"score\": null, \"itemUuid\": null}, {\"prefix\": \"B\", \"content\": \"720\", \"score\": null, \"itemUuid\": null}, {\"prefix\": \"C\", \"content\": \"708\", \"score\": null, \"itemUuid\": null}, {\"prefix\": \"D\", \"content\": \"786\", \"score\": null, \"itemUuid\": null}], \"correct\": \"B\"}\n",
      "[1495, 1493, 1587, 1517]\n",
      "{\"titleContent\": \"65 × 23 = ?\", \"analyze\": \"<p>无</p><br/>\", \"questionItemObjects\": [{\"prefix\": \"A\", \"content\": \"1495\", \"score\": null, \"itemUuid\": null}, {\"prefix\": \"B\", \"content\": \"1493\", \"score\": null, \"itemUuid\": null}, {\"prefix\": \"C\", \"content\": \"1587\", \"score\": null, \"itemUuid\": null}, {\"prefix\": \"D\", \"content\": \"1517\", \"score\": null, \"itemUuid\": null}], \"correct\": \"A\"}\n",
      "[3999, 4048, 4006, 4036]\n",
      "{\"titleContent\": \"43 × 93 = ?\", \"analyze\": \"<p>无</p><br/>\", \"questionItemObjects\": [{\"prefix\": \"A\", \"content\": \"3999\", \"score\": null, \"itemUuid\": null}, {\"prefix\": \"B\", \"content\": \"4048\", \"score\": null, \"itemUuid\": null}, {\"prefix\": \"C\", \"content\": \"4006\", \"score\": null, \"itemUuid\": null}, {\"prefix\": \"D\", \"content\": \"4036\", \"score\": null, \"itemUuid\": null}], \"correct\": \"A\"}\n",
      "[4044, 4164, 4118, 4103]\n",
      "{\"titleContent\": \"71 × 58 = ?\", \"analyze\": \"<p>无</p><br/>\", \"questionItemObjects\": [{\"prefix\": \"A\", \"content\": \"4044\", \"score\": null, \"itemUuid\": null}, {\"prefix\": \"B\", \"content\": \"4164\", \"score\": null, \"itemUuid\": null}, {\"prefix\": \"C\", \"content\": \"4118\", \"score\": null, \"itemUuid\": null}, {\"prefix\": \"D\", \"content\": \"4103\", \"score\": null, \"itemUuid\": null}], \"correct\": \"C\"}\n"
     ]
    }
   ],
   "source": [
    "df_q_id = 2\n",
    "df_t_id = 2\n",
    "\n",
    "for row in df.itertuples(index=True, name=\"Row\"):\n",
    "\n",
    "    # question\n",
    "    new_row = {\"id\": df_q_id, \n",
    "               \"question_type\": 1, \n",
    "               \"subject_id\": 1, \n",
    "               \"score\": 10,\n",
    "               \"grade_level\": 1, \n",
    "               \"difficult\":2,\n",
    "               \"correct\": row.Answer, \n",
    "               \"info_text_content_id\": df_q_id, \n",
    "               \"create_user\": 2, \n",
    "               \"status\": 1, \n",
    "               \"create_time\": df_q_create_time, \n",
    "               \"deleted\": 0}\n",
    "\n",
    "    df_q_id = df_q_id + 1\n",
    "    \n",
    "    df_q_tmp = pd.DataFrame([new_row])  # 创建单行 DataFrame\n",
    "    df_q = pd.concat([df_q, df_q_tmp], ignore_index=True)  # 追加数据\n",
    "\n",
    "    # ------------------------------------------------------------------------------\n",
    "    # context \n",
    "    # 解析 JSON\n",
    "    new_str = json.loads(json_str)\n",
    "    \n",
    "    new_str[\"titleContent\"] = row.Question\n",
    "    new_str[\"correct\"] = row.Answer\n",
    "    new_str[\"analyze\"] = \"<p>无</p><br/>\"\n",
    "    \n",
    "    # 目标 list\n",
    "    a = list(row[2:6])\n",
    "    print(a)\n",
    "    # 使用 zip() 批量赋值\n",
    "    new_str[\"questionItemObjects\"] = [\n",
    "        {**item, \"content\": str(content)}  # 确保 content 是字符串\n",
    "        for item, content in zip(new_str[\"questionItemObjects\"], a)\n",
    "    ]\n",
    "    \n",
    "    # 转换回 JSON 字符串\n",
    "    modified_json_str = json.dumps(new_str, ensure_ascii=False)\n",
    "\n",
    "    print(modified_json_str)\n",
    "    new_row = {\"id\": df_t_id, \n",
    "               \"content\": modified_json_str, \n",
    "               \"create_time\": df_t_create_time}\n",
    "\n",
    "    df_t_id = df_t_id + 1\n",
    "    \n",
    "    df_t_tmp = pd.DataFrame([new_row])  # 创建单行 DataFrame\n",
    "    df_t = pd.concat([df_t, df_t_tmp], ignore_index=True)  # 追加数据\n"
   ]
  },
  {
   "cell_type": "code",
   "execution_count": 164,
   "id": "6a6232fc-66ce-4a09-a010-9084662b2b97",
   "metadata": {},
   "outputs": [
    {
     "data": {
      "text/html": [
       "<div>\n",
       "<style scoped>\n",
       "    .dataframe tbody tr th:only-of-type {\n",
       "        vertical-align: middle;\n",
       "    }\n",
       "\n",
       "    .dataframe tbody tr th {\n",
       "        vertical-align: top;\n",
       "    }\n",
       "\n",
       "    .dataframe thead th {\n",
       "        text-align: right;\n",
       "    }\n",
       "</style>\n",
       "<table border=\"1\" class=\"dataframe\">\n",
       "  <thead>\n",
       "    <tr style=\"text-align: right;\">\n",
       "      <th></th>\n",
       "      <th>id</th>\n",
       "      <th>content</th>\n",
       "      <th>create_time</th>\n",
       "    </tr>\n",
       "  </thead>\n",
       "  <tbody>\n",
       "    <tr>\n",
       "      <th>0</th>\n",
       "      <td>2</td>\n",
       "      <td>{\"titleContent\": \"91 × 39 = ?\", \"analyze\": \"&lt;p...</td>\n",
       "      <td>2025-01-30 21:12:51</td>\n",
       "    </tr>\n",
       "    <tr>\n",
       "      <th>1</th>\n",
       "      <td>3</td>\n",
       "      <td>{\"titleContent\": \"24 × 30 = ?\", \"analyze\": \"&lt;p...</td>\n",
       "      <td>2025-01-30 21:12:51</td>\n",
       "    </tr>\n",
       "    <tr>\n",
       "      <th>2</th>\n",
       "      <td>4</td>\n",
       "      <td>{\"titleContent\": \"65 × 23 = ?\", \"analyze\": \"&lt;p...</td>\n",
       "      <td>2025-01-30 21:12:51</td>\n",
       "    </tr>\n",
       "    <tr>\n",
       "      <th>3</th>\n",
       "      <td>5</td>\n",
       "      <td>{\"titleContent\": \"43 × 93 = ?\", \"analyze\": \"&lt;p...</td>\n",
       "      <td>2025-01-30 21:12:51</td>\n",
       "    </tr>\n",
       "    <tr>\n",
       "      <th>4</th>\n",
       "      <td>6</td>\n",
       "      <td>{\"titleContent\": \"71 × 58 = ?\", \"analyze\": \"&lt;p...</td>\n",
       "      <td>2025-01-30 21:12:51</td>\n",
       "    </tr>\n",
       "  </tbody>\n",
       "</table>\n",
       "</div>"
      ],
      "text/plain": [
       "   id                                            content          create_time\n",
       "0   2  {\"titleContent\": \"91 × 39 = ?\", \"analyze\": \"<p...  2025-01-30 21:12:51\n",
       "1   3  {\"titleContent\": \"24 × 30 = ?\", \"analyze\": \"<p...  2025-01-30 21:12:51\n",
       "2   4  {\"titleContent\": \"65 × 23 = ?\", \"analyze\": \"<p...  2025-01-30 21:12:51\n",
       "3   5  {\"titleContent\": \"43 × 93 = ?\", \"analyze\": \"<p...  2025-01-30 21:12:51\n",
       "4   6  {\"titleContent\": \"71 × 58 = ?\", \"analyze\": \"<p...  2025-01-30 21:12:51"
      ]
     },
     "execution_count": 164,
     "metadata": {},
     "output_type": "execute_result"
    }
   ],
   "source": [
    "df_t"
   ]
  },
  {
   "cell_type": "code",
   "execution_count": 165,
   "id": "d0239976-b859-44bf-8d0a-384d1cb97468",
   "metadata": {},
   "outputs": [],
   "source": [
    "df_q.to_csv(\"question.csv\", encoding=\"utf-8\", index=False)\n",
    "df_t.to_csv(\"context.csv\", encoding=\"utf-8\", index=False)"
   ]
  },
  {
   "cell_type": "code",
   "execution_count": 71,
   "id": "79506d36-d200-49ee-85f7-d2afbeadd7e9",
   "metadata": {},
   "outputs": [],
   "source": [
    "# JSON 字符串\n",
    "json_str = '''{\n",
    "    \"titleContent\": \"1 + 1 = (?)\",\n",
    "    \"analyze\": \"<p>无</p><br/>\",\n",
    "    \"questionItemObjects\": [\n",
    "        {\"prefix\": \"A\", \"content\": \"1\", \"score\": null, \"itemUuid\": null},\n",
    "        {\"prefix\": \"B\", \"content\": \"2\", \"score\": null, \"itemUuid\": null},\n",
    "        {\"prefix\": \"C\", \"content\": \"3\", \"score\": null, \"itemUuid\": null},\n",
    "        {\"prefix\": \"D\", \"content\": \"4\", \"score\": null, \"itemUuid\": null}\n",
    "    ],\n",
    "    \"correct\": \"B\"\n",
    "}'''"
   ]
  },
  {
   "cell_type": "code",
   "execution_count": null,
   "id": "41112964-19bd-4af5-a051-ae900dff5509",
   "metadata": {},
   "outputs": [],
   "source": [
    "a = [1, 2, 3, 4]"
   ]
  },
  {
   "cell_type": "code",
   "execution_count": 78,
   "id": "4736d0cb-4d4b-4670-bd8b-36732ae0b36d",
   "metadata": {},
   "outputs": [
    {
     "name": "stdout",
     "output_type": "stream",
     "text": [
      "{\n",
      "    \"titleContent\": \"1 + 1 = (?)\",\n",
      "    \"analyze\": \"<p>无</p><br/>\",\n",
      "    \"questionItemObjects\": [\n",
      "        {\n",
      "            \"prefix\": \"A\",\n",
      "            \"content\": \"1\",\n",
      "            \"score\": null,\n",
      "            \"itemUuid\": null\n",
      "        },\n",
      "        {\n",
      "            \"prefix\": \"B\",\n",
      "            \"content\": \"2\",\n",
      "            \"score\": null,\n",
      "            \"itemUuid\": null\n",
      "        },\n",
      "        {\n",
      "            \"prefix\": \"C\",\n",
      "            \"content\": \"3\",\n",
      "            \"score\": null,\n",
      "            \"itemUuid\": null\n",
      "        },\n",
      "        {\n",
      "            \"prefix\": \"D\",\n",
      "            \"content\": \"4\",\n",
      "            \"score\": null,\n",
      "            \"itemUuid\": null\n",
      "        }\n",
      "    ],\n",
      "    \"correct\": \"C\"\n",
      "}\n"
     ]
    }
   ],
   "source": [
    "# 解析 JSON\n",
    "new_str = json.loads(json_str)\n",
    "\n",
    "new_str[\"titleContent\"]: \"1 + 2 = (?)\"\n",
    "new_str[\"correct\"] = \"C\"\n",
    "new_str[\"analyze\"] = \"<p>无</p><br/>\"\n",
    "\n",
    "# 目标 list\n",
    "a = [1, 2, 3, 4]\n",
    "\n",
    "# 使用 zip() 批量赋值\n",
    "new_str[\"questionItemObjects\"] = [\n",
    "    {**item, \"content\": str(content)}  # 确保 content 是字符串\n",
    "    for item, content in zip(new_str[\"questionItemObjects\"], a)\n",
    "]\n",
    "\n",
    "# 转换回 JSON 字符串\n",
    "modified_json_str = json.dumps(new_str, indent=4, ensure_ascii=False)\n",
    "\n",
    "print(modified_json_str)\n"
   ]
  },
  {
   "cell_type": "code",
   "execution_count": null,
   "id": "ce9311f2-ace9-4032-890c-d179c38fd2db",
   "metadata": {},
   "outputs": [],
   "source": []
  }
 ],
 "metadata": {
  "kernelspec": {
   "display_name": "Python 3 (ipykernel)",
   "language": "python",
   "name": "python3"
  },
  "language_info": {
   "codemirror_mode": {
    "name": "ipython",
    "version": 3
   },
   "file_extension": ".py",
   "mimetype": "text/x-python",
   "name": "python",
   "nbconvert_exporter": "python",
   "pygments_lexer": "ipython3",
   "version": "3.9.20"
  }
 },
 "nbformat": 4,
 "nbformat_minor": 5
}
